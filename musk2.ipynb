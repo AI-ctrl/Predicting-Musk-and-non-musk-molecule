{
 "cells": [
  {
   "cell_type": "code",
   "execution_count": 1,
   "metadata": {
    "colab": {},
    "colab_type": "code",
    "id": "_PqrlzPYsjpd"
   },
   "outputs": [],
   "source": [
    "import numpy as np\n",
    "import pandas as pd\n",
    "#import pandas_profiling as pp\n",
    "import seaborn as sns\n",
    "import matplotlib.pyplot as plt\n"
   ]
  },
  {
   "cell_type": "code",
   "execution_count": 0,
   "metadata": {
    "colab": {},
    "colab_type": "code",
    "id": "m1LplcD8s8a9"
   },
   "outputs": [],
   "source": []
  },
  {
   "cell_type": "code",
   "execution_count": 2,
   "metadata": {
    "colab": {
     "base_uri": "https://localhost:8080/",
     "height": 122
    },
    "colab_type": "code",
    "id": "125jyyJRvT5e",
    "outputId": "198690b1-58c5-4136-9f52-242b37a7fbb9"
   },
   "outputs": [
    {
     "name": "stdout",
     "output_type": "stream",
     "text": [
      "Go to this URL in a browser: https://accounts.google.com/o/oauth2/auth?client_id=947318989803-6bn6qk8qdgf4n4g3pfee6491hc0brc4i.apps.googleusercontent.com&redirect_uri=urn%3aietf%3awg%3aoauth%3a2.0%3aoob&response_type=code&scope=email%20https%3a%2f%2fwww.googleapis.com%2fauth%2fdocs.test%20https%3a%2f%2fwww.googleapis.com%2fauth%2fdrive%20https%3a%2f%2fwww.googleapis.com%2fauth%2fdrive.photos.readonly%20https%3a%2f%2fwww.googleapis.com%2fauth%2fpeopleapi.readonly\n",
      "\n",
      "Enter your authorization code:\n",
      "··········\n",
      "Mounted at /content/drive\n"
     ]
    }
   ],
   "source": [
    "from google.colab import drive\n",
    "drive.mount('/content/drive')"
   ]
  },
  {
   "cell_type": "code",
   "execution_count": 2,
   "metadata": {
    "colab": {
     "base_uri": "https://localhost:8080/",
     "height": 253
    },
    "colab_type": "code",
    "id": "Spb8QCg4vU59",
    "outputId": "a816a3a0-c9c8-4d0e-e25d-6176ad7cf6db"
   },
   "outputs": [
    {
     "data": {
      "text/html": [
       "<div>\n",
       "<style scoped>\n",
       "    .dataframe tbody tr th:only-of-type {\n",
       "        vertical-align: middle;\n",
       "    }\n",
       "\n",
       "    .dataframe tbody tr th {\n",
       "        vertical-align: top;\n",
       "    }\n",
       "\n",
       "    .dataframe thead th {\n",
       "        text-align: right;\n",
       "    }\n",
       "</style>\n",
       "<table border=\"1\" class=\"dataframe\">\n",
       "  <thead>\n",
       "    <tr style=\"text-align: right;\">\n",
       "      <th></th>\n",
       "      <th>ID</th>\n",
       "      <th>molecule_name</th>\n",
       "      <th>conformation_name</th>\n",
       "      <th>f1</th>\n",
       "      <th>f2</th>\n",
       "      <th>f3</th>\n",
       "      <th>f4</th>\n",
       "      <th>f5</th>\n",
       "      <th>f6</th>\n",
       "      <th>f7</th>\n",
       "      <th>...</th>\n",
       "      <th>f158</th>\n",
       "      <th>f159</th>\n",
       "      <th>f160</th>\n",
       "      <th>f161</th>\n",
       "      <th>f162</th>\n",
       "      <th>f163</th>\n",
       "      <th>f164</th>\n",
       "      <th>f165</th>\n",
       "      <th>f166</th>\n",
       "      <th>class</th>\n",
       "    </tr>\n",
       "  </thead>\n",
       "  <tbody>\n",
       "    <tr>\n",
       "      <th>0</th>\n",
       "      <td>1</td>\n",
       "      <td>MUSK-211</td>\n",
       "      <td>211_1+1</td>\n",
       "      <td>46</td>\n",
       "      <td>-108</td>\n",
       "      <td>-60</td>\n",
       "      <td>-69</td>\n",
       "      <td>-117</td>\n",
       "      <td>49</td>\n",
       "      <td>38</td>\n",
       "      <td>...</td>\n",
       "      <td>-308</td>\n",
       "      <td>52</td>\n",
       "      <td>-7</td>\n",
       "      <td>39</td>\n",
       "      <td>126</td>\n",
       "      <td>156</td>\n",
       "      <td>-50</td>\n",
       "      <td>-112</td>\n",
       "      <td>96</td>\n",
       "      <td>1</td>\n",
       "    </tr>\n",
       "    <tr>\n",
       "      <th>1</th>\n",
       "      <td>2</td>\n",
       "      <td>MUSK-211</td>\n",
       "      <td>211_1+10</td>\n",
       "      <td>41</td>\n",
       "      <td>-188</td>\n",
       "      <td>-145</td>\n",
       "      <td>22</td>\n",
       "      <td>-117</td>\n",
       "      <td>-6</td>\n",
       "      <td>57</td>\n",
       "      <td>...</td>\n",
       "      <td>-59</td>\n",
       "      <td>-2</td>\n",
       "      <td>52</td>\n",
       "      <td>103</td>\n",
       "      <td>136</td>\n",
       "      <td>169</td>\n",
       "      <td>-61</td>\n",
       "      <td>-136</td>\n",
       "      <td>79</td>\n",
       "      <td>1</td>\n",
       "    </tr>\n",
       "    <tr>\n",
       "      <th>2</th>\n",
       "      <td>3</td>\n",
       "      <td>MUSK-211</td>\n",
       "      <td>211_1+11</td>\n",
       "      <td>46</td>\n",
       "      <td>-194</td>\n",
       "      <td>-145</td>\n",
       "      <td>28</td>\n",
       "      <td>-117</td>\n",
       "      <td>73</td>\n",
       "      <td>57</td>\n",
       "      <td>...</td>\n",
       "      <td>-134</td>\n",
       "      <td>-154</td>\n",
       "      <td>57</td>\n",
       "      <td>143</td>\n",
       "      <td>142</td>\n",
       "      <td>165</td>\n",
       "      <td>-67</td>\n",
       "      <td>-145</td>\n",
       "      <td>39</td>\n",
       "      <td>1</td>\n",
       "    </tr>\n",
       "    <tr>\n",
       "      <th>3</th>\n",
       "      <td>4</td>\n",
       "      <td>MUSK-211</td>\n",
       "      <td>211_1+12</td>\n",
       "      <td>41</td>\n",
       "      <td>-188</td>\n",
       "      <td>-145</td>\n",
       "      <td>22</td>\n",
       "      <td>-117</td>\n",
       "      <td>-7</td>\n",
       "      <td>57</td>\n",
       "      <td>...</td>\n",
       "      <td>-60</td>\n",
       "      <td>-4</td>\n",
       "      <td>52</td>\n",
       "      <td>104</td>\n",
       "      <td>136</td>\n",
       "      <td>168</td>\n",
       "      <td>-60</td>\n",
       "      <td>-135</td>\n",
       "      <td>80</td>\n",
       "      <td>1</td>\n",
       "    </tr>\n",
       "    <tr>\n",
       "      <th>4</th>\n",
       "      <td>5</td>\n",
       "      <td>MUSK-211</td>\n",
       "      <td>211_1+13</td>\n",
       "      <td>41</td>\n",
       "      <td>-188</td>\n",
       "      <td>-145</td>\n",
       "      <td>22</td>\n",
       "      <td>-117</td>\n",
       "      <td>-7</td>\n",
       "      <td>57</td>\n",
       "      <td>...</td>\n",
       "      <td>-60</td>\n",
       "      <td>-4</td>\n",
       "      <td>52</td>\n",
       "      <td>104</td>\n",
       "      <td>137</td>\n",
       "      <td>168</td>\n",
       "      <td>-60</td>\n",
       "      <td>-135</td>\n",
       "      <td>80</td>\n",
       "      <td>1</td>\n",
       "    </tr>\n",
       "  </tbody>\n",
       "</table>\n",
       "<p>5 rows × 170 columns</p>\n",
       "</div>"
      ],
      "text/plain": [
       "   ID molecule_name conformation_name  f1   f2   f3  f4   f5  f6  f7  ...  \\\n",
       "0   1      MUSK-211           211_1+1  46 -108  -60 -69 -117  49  38  ...   \n",
       "1   2      MUSK-211          211_1+10  41 -188 -145  22 -117  -6  57  ...   \n",
       "2   3      MUSK-211          211_1+11  46 -194 -145  28 -117  73  57  ...   \n",
       "3   4      MUSK-211          211_1+12  41 -188 -145  22 -117  -7  57  ...   \n",
       "4   5      MUSK-211          211_1+13  41 -188 -145  22 -117  -7  57  ...   \n",
       "\n",
       "   f158  f159  f160  f161  f162  f163  f164  f165  f166  class  \n",
       "0  -308    52    -7    39   126   156   -50  -112    96      1  \n",
       "1   -59    -2    52   103   136   169   -61  -136    79      1  \n",
       "2  -134  -154    57   143   142   165   -67  -145    39      1  \n",
       "3   -60    -4    52   104   136   168   -60  -135    80      1  \n",
       "4   -60    -4    52   104   137   168   -60  -135    80      1  \n",
       "\n",
       "[5 rows x 170 columns]"
      ]
     },
     "execution_count": 2,
     "metadata": {},
     "output_type": "execute_result"
    }
   ],
   "source": [
    "df=pd.read_csv(\"musk_csv.csv\")\n",
    "df.head()"
   ]
  },
  {
   "cell_type": "code",
   "execution_count": 5,
   "metadata": {
    "colab": {},
    "colab_type": "code",
    "id": "_yafSRzpxCb-"
   },
   "outputs": [],
   "source": [
    "corr_matrix = df.corr().abs()\n",
    "\n",
    "# Select upper triangle of correlation matrix\n",
    "upper = corr_matrix.where(np.triu(np.ones(corr_matrix.shape), k=1).astype(np.bool))\n",
    "\n",
    "# Find index of feature columns with correlation greater than 0.92\n",
    "to_drop = [column for column in upper.columns if any(upper[column] > 0.90)]"
   ]
  },
  {
   "cell_type": "code",
   "execution_count": 6,
   "metadata": {
    "colab": {},
    "colab_type": "code",
    "id": "FSlBarLPxhiv"
   },
   "outputs": [],
   "source": [
    "df1=df.drop(columns=to_drop)"
   ]
  },
  {
   "cell_type": "code",
   "execution_count": 7,
   "metadata": {
    "colab": {
     "base_uri": "https://localhost:8080/",
     "height": 34
    },
    "colab_type": "code",
    "id": "smJme8Yyxwfp",
    "outputId": "d7b7a99f-ed26-4033-c27b-dd594c85dd62"
   },
   "outputs": [
    {
     "data": {
      "text/plain": [
       "(5278, 107)"
      ]
     },
     "execution_count": 7,
     "metadata": {},
     "output_type": "execute_result"
    }
   ],
   "source": [
    "from sklearn.model_selection import train_test_split\n",
    "train,test = train_test_split(df1, random_state=30, test_size = 0.2)\n",
    "Xtrain = train.iloc[:,3:-1]\n",
    "Ytrain = train.iloc[:,-1:]\n",
    "Xtest = test.iloc[:,3:-1]\n",
    "Ytest = test.iloc[:,-1:]\n",
    "Xtrain.shape"
   ]
  },
  {
   "cell_type": "code",
   "execution_count": 22,
   "metadata": {
    "colab": {},
    "colab_type": "code",
    "id": "4TK0kpfmx0W9"
   },
   "outputs": [],
   "source": [
    "from sklearn.preprocessing import StandardScaler\n",
    "sc=StandardScaler()\n",
    "xtrain=sc.fit_transform(Xtrain)\n",
    "xtest=sc.fit_transform(Xtest)\n",
    "\n"
   ]
  },
  {
   "cell_type": "code",
   "execution_count": 9,
   "metadata": {
    "colab": {},
    "colab_type": "code",
    "id": "tgR-2W-V1LHr"
   },
   "outputs": [
    {
     "name": "stderr",
     "output_type": "stream",
     "text": [
      "Using TensorFlow backend.\n"
     ]
    }
   ],
   "source": [
    "import tensorflow\n",
    "import keras\n",
    "from keras.models import Sequential\n",
    "from keras.layers import Dense"
   ]
  },
  {
   "cell_type": "code",
   "execution_count": 47,
   "metadata": {
    "colab": {
     "base_uri": "https://localhost:8080/",
     "height": 71
    },
    "colab_type": "code",
    "id": "5a4l9-db1bUF",
    "outputId": "9de1db83-67be-4fb5-a202-8f5d4a15bf03"
   },
   "outputs": [],
   "source": [
    "model=Sequential()"
   ]
  },
  {
   "cell_type": "code",
   "execution_count": 48,
   "metadata": {
    "colab": {},
    "colab_type": "code",
    "id": "Ht757kQD1nG6"
   },
   "outputs": [],
   "source": [
    "model.add(Dense(128,input_shape=(107,),activation=\"relu\"))\n",
    "#model.add(Dense(128,activation=\"relu\"))\n",
    "model.add(Dense(64,activation=\"relu\"))\n",
    "model.add(Dense(32,activation=\"relu\"))\n",
    "model.add(Dense(1,activation=\"sigmoid\"))"
   ]
  },
  {
   "cell_type": "code",
   "execution_count": 49,
   "metadata": {
    "colab": {},
    "colab_type": "code",
    "id": "-MtTmA3X2NqV"
   },
   "outputs": [],
   "source": [
    "model.compile(optimizer=\"adam\",loss=\"binary_crossentropy\",metrics=[\"accuracy\"])"
   ]
  },
  {
   "cell_type": "code",
   "execution_count": 50,
   "metadata": {
    "colab": {
     "base_uri": "https://localhost:8080/",
     "height": 731
    },
    "colab_type": "code",
    "id": "tXY3A5mk2h4O",
    "outputId": "bfff6a4c-89d2-4efd-dd91-d3d22b81f836"
   },
   "outputs": [
    {
     "name": "stdout",
     "output_type": "stream",
     "text": [
      "Train on 5278 samples, validate on 1320 samples\n",
      "Epoch 1/20\n",
      "4096/5278 [======================>.......] - ETA: 11s - loss: 0.4600 - acc: 0.8186"
     ]
    },
    {
     "name": "stderr",
     "output_type": "stream",
     "text": [
      "C:\\Users\\Hp\\Anaconda3\\lib\\site-packages\\keras\\callbacks.py:122: UserWarning: Method on_batch_end() is slow compared to the batch update (0.106840). Check your callbacks.\n",
      "  % delta_t_median)\n"
     ]
    },
    {
     "name": "stdout",
     "output_type": "stream",
     "text": [
      "5278/5278 [==============================] - 42s 8ms/step - loss: 0.4329 - acc: 0.8236 - val_loss: 0.3090 - val_acc: 0.8591\n",
      "Epoch 2/20\n",
      "5278/5278 [==============================] - 0s 20us/step - loss: 0.2876 - acc: 0.8704 - val_loss: 0.2375 - val_acc: 0.9030\n",
      "Epoch 3/20\n",
      "5278/5278 [==============================] - 0s 21us/step - loss: 0.2189 - acc: 0.9144 - val_loss: 0.1942 - val_acc: 0.9242\n",
      "Epoch 4/20\n",
      "5278/5278 [==============================] - 0s 29us/step - loss: 0.1735 - acc: 0.9337 - val_loss: 0.1621 - val_acc: 0.9295\n",
      "Epoch 5/20\n",
      "5278/5278 [==============================] - 0s 30us/step - loss: 0.1424 - acc: 0.9441 - val_loss: 0.1391 - val_acc: 0.9417\n",
      "Epoch 6/20\n",
      "5278/5278 [==============================] - 0s 21us/step - loss: 0.1176 - acc: 0.9566 - val_loss: 0.1213 - val_acc: 0.9508\n",
      "Epoch 7/20\n",
      "5278/5278 [==============================] - 0s 34us/step - loss: 0.0976 - acc: 0.9663 - val_loss: 0.1090 - val_acc: 0.9583\n",
      "Epoch 8/20\n",
      "5278/5278 [==============================] - 0s 23us/step - loss: 0.0831 - acc: 0.9699 - val_loss: 0.0980 - val_acc: 0.9614\n",
      "Epoch 9/20\n",
      "5278/5278 [==============================] - 0s 20us/step - loss: 0.0712 - acc: 0.9739 - val_loss: 0.0940 - val_acc: 0.9621\n",
      "Epoch 10/20\n",
      "5278/5278 [==============================] - 0s 25us/step - loss: 0.0613 - acc: 0.9788 - val_loss: 0.0849 - val_acc: 0.9674\n",
      "Epoch 11/20\n",
      "5278/5278 [==============================] - 0s 34us/step - loss: 0.0522 - acc: 0.9816 - val_loss: 0.0785 - val_acc: 0.9720\n",
      "Epoch 12/20\n",
      "5278/5278 [==============================] - 0s 22us/step - loss: 0.0461 - acc: 0.9843 - val_loss: 0.0739 - val_acc: 0.9705\n",
      "Epoch 13/20\n",
      "5278/5278 [==============================] - 0s 25us/step - loss: 0.0384 - acc: 0.9886 - val_loss: 0.0690 - val_acc: 0.9727\n",
      "Epoch 14/20\n",
      "5278/5278 [==============================] - 0s 18us/step - loss: 0.0341 - acc: 0.9894 - val_loss: 0.0647 - val_acc: 0.9742\n",
      "Epoch 15/20\n",
      "5278/5278 [==============================] - 0s 22us/step - loss: 0.0287 - acc: 0.9909 - val_loss: 0.0583 - val_acc: 0.9773\n",
      "Epoch 16/20\n",
      "5278/5278 [==============================] - 0s 23us/step - loss: 0.0243 - acc: 0.9937 - val_loss: 0.0556 - val_acc: 0.9773\n",
      "Epoch 17/20\n",
      "5278/5278 [==============================] - 0s 33us/step - loss: 0.0205 - acc: 0.9951 - val_loss: 0.0533 - val_acc: 0.9811\n",
      "Epoch 18/20\n",
      "5278/5278 [==============================] - 0s 41us/step - loss: 0.0168 - acc: 0.9964 - val_loss: 0.0508 - val_acc: 0.9826\n",
      "Epoch 19/20\n",
      "5278/5278 [==============================] - 0s 37us/step - loss: 0.0148 - acc: 0.9975 - val_loss: 0.0481 - val_acc: 0.9841\n",
      "Epoch 20/20\n",
      "5278/5278 [==============================] - 0s 44us/step - loss: 0.0126 - acc: 0.9981 - val_loss: 0.0453 - val_acc: 0.9841\n",
      "[0.04531974916467196, 0.9840909090909091]\n"
     ]
    }
   ],
   "source": [
    "ML=model.fit(xtrain,Ytrain,batch_size=512,epochs=20,validation_data=(xtest,Ytest))\n",
    "score=model.evaluate(Xtest,Ytest,verbose=0)\n",
    "print(score)"
   ]
  },
  {
   "cell_type": "code",
   "execution_count": 27,
   "metadata": {
    "colab": {},
    "colab_type": "code",
    "id": "aRKtpDWHFWSo"
   },
   "outputs": [],
   "source": [
    "\n",
    "from sklearn.decomposition import PCA\n",
    "from sklearn.metrics import roc_auc_score\n",
    "from sklearn.metrics import roc_curve\n",
    "from sklearn.metrics import f1_score, precision_score, recall_score"
   ]
  },
  {
   "cell_type": "code",
   "execution_count": 51,
   "metadata": {
    "colab": {
     "base_uri": "https://localhost:8080/",
     "height": 85
    },
    "colab_type": "code",
    "id": "cIaNCVvW3OEl",
    "outputId": "79146e95-ed72-43e7-bae9-dde715c324be"
   },
   "outputs": [
    {
     "name": "stdout",
     "output_type": "stream",
     "text": [
      "f1_score: 0.9451697127937337\n",
      "recall: 0.9378238341968912\n",
      "Validation Loss: 0.04531974916467196\n",
      "Validation Accuracy: 0.9840909090909091\n"
     ]
    }
   ],
   "source": [
    "print(\"f1_score:\",f1_score(Ytest,model.predict_classes(Xtest),))\n",
    "print(\"recall:\",recall_score(Ytest,model.predict_classes(Xtest),))\n",
    "print(\"Validation Loss:\",score[0])\n",
    "print(\"Validation Accuracy:\",score[1])"
   ]
  },
  {
   "cell_type": "code",
   "execution_count": 52,
   "metadata": {
    "colab": {},
    "colab_type": "code",
    "id": "u2REVjhOFbK8"
   },
   "outputs": [
    {
     "data": {
      "image/png": "[encoded data removed]",
      "text/plain": [
       "<Figure size 432x288 with 1 Axes>"
      ]
     },
     "metadata": {
      "needs_background": "light"
     },
     "output_type": "display_data"
    },
    {
     "data": {
      "image/png": "[encoded data removed]",
      "text/plain": [
       "<Figure size 432x288 with 1 Axes>"
      ]
     },
     "metadata": {
      "needs_background": "light"
     },
     "output_type": "display_data"
    }
   ],
   "source": [
    "\n",
    "# summarize history for accuracy\n",
    "plt.plot(ML.history['acc'])\n",
    "plt.plot(ML.history['val_acc'])\n",
    "plt.title('model accuracy')\n",
    "plt.ylabel('accuracy')\n",
    "plt.xlabel('epoch')\n",
    "plt.legend(['train', 'test'], loc='upper right')\n",
    "plt.show()\n",
    "\n",
    "# summarize history for loss\n",
    "plt.plot(ML.history['loss'])\n",
    "plt.plot(ML.history['val_loss'])\n",
    "plt.title('model loss')\n",
    "plt.ylabel('loss')\n",
    "plt.xlabel('epoch')\n",
    "plt.legend(['train', 'test'], loc='upper right')\n",
    "plt.show()"
   ]
  },
  {
   "cell_type": "code",
   "execution_count": 53,
   "metadata": {},
   "outputs": [],
   "source": [
    "model.save('model3.h5')"
   ]
  },
  {
   "cell_type": "code",
   "execution_count": 54,
   "metadata": {},
   "outputs": [
    {
     "data": {
      "text/plain": [
       "array([[1118,    9],\n",
       "       [  12,  181]], dtype=int64)"
      ]
     },
     "execution_count": 54,
     "metadata": {},
     "output_type": "execute_result"
    }
   ],
   "source": [
    "from sklearn.metrics import confusion_matrix\n",
    "y_pred=model.predict(xtest)\n",
    "y_pred=(y_pred>0.5)\n",
    "cm=confusion_matrix(Ytest,y_pred)\n",
    "cm"
   ]
  }
 ],
 "metadata": {
  "colab": {
   "name": "musk2.ipynb",
   "provenance": []
  },
  "kernelspec": {
   "display_name": "Python 3",
   "language": "python",
   "name": "python3"
  },
  "language_info": {
   "codemirror_mode": {
    "name": "ipython",
    "version": 3
   },
   "file_extension": ".py",
   "mimetype": "text/x-python",
   "name": "python",
   "nbconvert_exporter": "python",
   "pygments_lexer": "ipython3",
   "version": "3.7.3"
  }
 },
 "nbformat": 4,
 "nbformat_minor": 1
}
